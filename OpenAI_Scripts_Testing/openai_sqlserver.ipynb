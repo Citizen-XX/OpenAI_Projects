{
 "cells": [
  {
   "cell_type": "code",
   "execution_count": 1,
   "metadata": {},
   "outputs": [
    {
     "data": {
      "text/plain": [
       "True"
      ]
     },
     "execution_count": 1,
     "metadata": {},
     "output_type": "execute_result"
    }
   ],
   "source": [
    "import openai\n",
    "import pandas as pd\n",
    "import pyodbc\n",
    "\n",
    "import os\n",
    "from dotenv import load_dotenv\n",
    "\n",
    "load_dotenv()"
   ]
  },
  {
   "cell_type": "code",
   "execution_count": 2,
   "metadata": {},
   "outputs": [],
   "source": [
    "# drivers = pyodbc.drivers()\n",
    "# print(drivers)"
   ]
  },
  {
   "cell_type": "code",
   "execution_count": 3,
   "metadata": {},
   "outputs": [],
   "source": [
    "openai.api_key = os.getenv(\"OPENAI_API_KEY\")"
   ]
  },
  {
   "cell_type": "code",
   "execution_count": 4,
   "metadata": {},
   "outputs": [],
   "source": [
    "# Server=EAS-82NKM;Database=AdventureWorks2022;Trusted_Connection=True;"
   ]
  },
  {
   "cell_type": "code",
   "execution_count": 5,
   "metadata": {},
   "outputs": [
    {
     "name": "stdout",
     "output_type": "stream",
     "text": [
      "Connection Live: True\n"
     ]
    }
   ],
   "source": [
    "conn = pyodbc.connect(f'DRIVER={os.getenv(\"DRIVER_17\")};'\n",
    "                      f'SERVER={os.getenv(\"AW_SERVER_NAME\")};'\n",
    "                      f'DATABASE={os.getenv(\"AW_DATABASE_NAME\")};'\n",
    "                      'Trusted_Connection=Yes;')\n",
    "print(f\"Connection Live: {not(conn.closed)}\")"
   ]
  },
  {
   "cell_type": "code",
   "execution_count": 6,
   "metadata": {},
   "outputs": [],
   "source": [
    "cursor = conn.cursor()\n",
    "cursor.execute(\"SELECT CONCAT(TABLE_SCHEMA, '.', TABLE_NAME) AS full_table_name FROM INFORMATION_SCHEMA.TABLES WHERE TABLE_TYPE = 'BASE TABLE'\")\n",
    "tables = cursor.fetchall()"
   ]
  },
  {
   "cell_type": "code",
   "execution_count": 7,
   "metadata": {},
   "outputs": [],
   "source": [
    "tables_names_list = [i[0] for i in tables]"
   ]
  },
  {
   "cell_type": "code",
   "execution_count": 8,
   "metadata": {},
   "outputs": [
    {
     "data": {
      "text/plain": [
       "['Sales.SalesTaxRate',\n",
       " 'Sales.PersonCreditCard',\n",
       " 'Person.PersonPhone',\n",
       " 'Sales.SalesTerritory',\n",
       " 'Person.PhoneNumberType',\n",
       " 'Production.Product',\n",
       " 'Sales.SalesTerritoryHistory',\n",
       " 'Production.ScrapReason',\n",
       " 'HumanResources.Shift',\n",
       " 'Production.ProductCategory',\n",
       " 'Purchasing.ShipMethod',\n",
       " 'Production.ProductCostHistory',\n",
       " 'Production.ProductDescription',\n",
       " 'Sales.ShoppingCartItem',\n",
       " 'Production.ProductDocument',\n",
       " 'dbo.DatabaseLog',\n",
       " 'Production.ProductInventory',\n",
       " 'Sales.SpecialOffer',\n",
       " 'dbo.ErrorLog',\n",
       " 'Production.ProductListPriceHistory',\n",
       " 'Person.Address',\n",
       " 'Sales.SpecialOfferProduct',\n",
       " 'Production.ProductModel',\n",
       " 'Person.AddressType',\n",
       " 'Person.StateProvince',\n",
       " 'Production.ProductModelIllustration',\n",
       " 'dbo.AWBuildVersion',\n",
       " 'Production.ProductModelProductDescriptionCulture',\n",
       " 'Production.BillOfMaterials',\n",
       " 'Sales.Store',\n",
       " 'Production.ProductPhoto',\n",
       " 'Production.ProductProductPhoto',\n",
       " 'Production.TransactionHistory',\n",
       " 'Production.ProductReview',\n",
       " 'Person.BusinessEntity',\n",
       " 'Production.TransactionHistoryArchive',\n",
       " 'Production.ProductSubcategory',\n",
       " 'Person.BusinessEntityAddress',\n",
       " 'Purchasing.ProductVendor',\n",
       " 'Person.BusinessEntityContact',\n",
       " 'Production.UnitMeasure',\n",
       " 'Purchasing.Vendor',\n",
       " 'Person.ContactType',\n",
       " 'Sales.CountryRegionCurrency',\n",
       " 'Person.CountryRegion',\n",
       " 'Production.WorkOrder',\n",
       " 'Purchasing.PurchaseOrderDetail',\n",
       " 'Sales.CreditCard',\n",
       " 'Production.Culture',\n",
       " 'Production.WorkOrderRouting',\n",
       " 'Sales.Currency',\n",
       " 'Purchasing.PurchaseOrderHeader',\n",
       " 'Sales.CurrencyRate',\n",
       " 'Sales.Customer',\n",
       " 'HumanResources.Department',\n",
       " 'Production.Document',\n",
       " 'Sales.SalesOrderDetail',\n",
       " 'Person.EmailAddress',\n",
       " 'HumanResources.Employee',\n",
       " 'Sales.SalesOrderHeader',\n",
       " 'HumanResources.EmployeeDepartmentHistory',\n",
       " 'HumanResources.EmployeePayHistory',\n",
       " 'Sales.SalesOrderHeaderSalesReason',\n",
       " 'Sales.SalesPerson',\n",
       " 'Production.Illustration',\n",
       " 'HumanResources.JobCandidate',\n",
       " 'Production.Location',\n",
       " 'Person.Password',\n",
       " 'Sales.SalesPersonQuotaHistory',\n",
       " 'Person.Person',\n",
       " 'Sales.SalesReason']"
      ]
     },
     "execution_count": 8,
     "metadata": {},
     "output_type": "execute_result"
    }
   ],
   "source": [
    "tables_names_list"
   ]
  },
  {
   "cell_type": "code",
   "execution_count": 9,
   "metadata": {},
   "outputs": [],
   "source": [
    "# tables_needed = [\"AIF_Jobs\",\"SFDMON2\"]\n",
    "# table_names_list = [row[0] for row in tables if (row[0] == tables_needed[0] or row[0] == tables_needed[1])]"
   ]
  },
  {
   "cell_type": "code",
   "execution_count": 10,
   "metadata": {},
   "outputs": [],
   "source": [
    "table_mapper = {}\n",
    "for i,name in enumerate(tables_names_list):\n",
    "    table_mapper.update({i:name})"
   ]
  },
  {
   "cell_type": "code",
   "execution_count": 11,
   "metadata": {},
   "outputs": [
    {
     "data": {
      "text/plain": [
       "{0: 'Sales.SalesTaxRate',\n",
       " 1: 'Sales.PersonCreditCard',\n",
       " 2: 'Person.PersonPhone',\n",
       " 3: 'Sales.SalesTerritory',\n",
       " 4: 'Person.PhoneNumberType',\n",
       " 5: 'Production.Product',\n",
       " 6: 'Sales.SalesTerritoryHistory',\n",
       " 7: 'Production.ScrapReason',\n",
       " 8: 'HumanResources.Shift',\n",
       " 9: 'Production.ProductCategory',\n",
       " 10: 'Purchasing.ShipMethod',\n",
       " 11: 'Production.ProductCostHistory',\n",
       " 12: 'Production.ProductDescription',\n",
       " 13: 'Sales.ShoppingCartItem',\n",
       " 14: 'Production.ProductDocument',\n",
       " 15: 'dbo.DatabaseLog',\n",
       " 16: 'Production.ProductInventory',\n",
       " 17: 'Sales.SpecialOffer',\n",
       " 18: 'dbo.ErrorLog',\n",
       " 19: 'Production.ProductListPriceHistory',\n",
       " 20: 'Person.Address',\n",
       " 21: 'Sales.SpecialOfferProduct',\n",
       " 22: 'Production.ProductModel',\n",
       " 23: 'Person.AddressType',\n",
       " 24: 'Person.StateProvince',\n",
       " 25: 'Production.ProductModelIllustration',\n",
       " 26: 'dbo.AWBuildVersion',\n",
       " 27: 'Production.ProductModelProductDescriptionCulture',\n",
       " 28: 'Production.BillOfMaterials',\n",
       " 29: 'Sales.Store',\n",
       " 30: 'Production.ProductPhoto',\n",
       " 31: 'Production.ProductProductPhoto',\n",
       " 32: 'Production.TransactionHistory',\n",
       " 33: 'Production.ProductReview',\n",
       " 34: 'Person.BusinessEntity',\n",
       " 35: 'Production.TransactionHistoryArchive',\n",
       " 36: 'Production.ProductSubcategory',\n",
       " 37: 'Person.BusinessEntityAddress',\n",
       " 38: 'Purchasing.ProductVendor',\n",
       " 39: 'Person.BusinessEntityContact',\n",
       " 40: 'Production.UnitMeasure',\n",
       " 41: 'Purchasing.Vendor',\n",
       " 42: 'Person.ContactType',\n",
       " 43: 'Sales.CountryRegionCurrency',\n",
       " 44: 'Person.CountryRegion',\n",
       " 45: 'Production.WorkOrder',\n",
       " 46: 'Purchasing.PurchaseOrderDetail',\n",
       " 47: 'Sales.CreditCard',\n",
       " 48: 'Production.Culture',\n",
       " 49: 'Production.WorkOrderRouting',\n",
       " 50: 'Sales.Currency',\n",
       " 51: 'Purchasing.PurchaseOrderHeader',\n",
       " 52: 'Sales.CurrencyRate',\n",
       " 53: 'Sales.Customer',\n",
       " 54: 'HumanResources.Department',\n",
       " 55: 'Production.Document',\n",
       " 56: 'Sales.SalesOrderDetail',\n",
       " 57: 'Person.EmailAddress',\n",
       " 58: 'HumanResources.Employee',\n",
       " 59: 'Sales.SalesOrderHeader',\n",
       " 60: 'HumanResources.EmployeeDepartmentHistory',\n",
       " 61: 'HumanResources.EmployeePayHistory',\n",
       " 62: 'Sales.SalesOrderHeaderSalesReason',\n",
       " 63: 'Sales.SalesPerson',\n",
       " 64: 'Production.Illustration',\n",
       " 65: 'HumanResources.JobCandidate',\n",
       " 66: 'Production.Location',\n",
       " 67: 'Person.Password',\n",
       " 68: 'Sales.SalesPersonQuotaHistory',\n",
       " 69: 'Person.Person',\n",
       " 70: 'Sales.SalesReason'}"
      ]
     },
     "execution_count": 11,
     "metadata": {},
     "output_type": "execute_result"
    }
   ],
   "source": [
    "table_mapper"
   ]
  },
  {
   "cell_type": "code",
   "execution_count": 12,
   "metadata": {},
   "outputs": [],
   "source": [
    "def choose_table(available_tables_list):\n",
    "    while True:\n",
    "        table_chosen = input(f\"Select the number of the table to query from {available_tables_list}: \")\n",
    "        try:\n",
    "            name_selected = available_tables_list[int(table_chosen)]\n",
    "            all_good = input(f\"Are you sure you want to query from {name_selected}: Y/N\")\n",
    "            if (all_good == \"Y\" or all_good == \"y\"):\n",
    "                return name_selected\n",
    "            elif (all_good == \"N\" or all_good == \"n\"):\n",
    "                print(\"Let's try again\")\n",
    "            else:\n",
    "                print(\"Neither 'Y' or 'N' were selected, try again\")\n",
    "        except:\n",
    "            print(\"Error in the selection, try again...\")\n"
   ]
  },
  {
   "cell_type": "code",
   "execution_count": 13,
   "metadata": {},
   "outputs": [],
   "source": [
    "chosen_table = choose_table(table_mapper)\n",
    "partial_chosen_table = chosen_table.split(\".\")[1]"
   ]
  },
  {
   "cell_type": "code",
   "execution_count": 14,
   "metadata": {},
   "outputs": [
    {
     "data": {
      "text/plain": [
       "('Sales.SalesPersonQuotaHistory', 'SalesPersonQuotaHistory')"
      ]
     },
     "execution_count": 14,
     "metadata": {},
     "output_type": "execute_result"
    }
   ],
   "source": [
    "chosen_table, partial_chosen_table"
   ]
  },
  {
   "cell_type": "code",
   "execution_count": 15,
   "metadata": {},
   "outputs": [],
   "source": [
    "def get_columns(cursor,table_name):\n",
    "    columns = [column[3] for column in cursor.columns(table=table_name)]\n",
    "    return columns"
   ]
  },
  {
   "cell_type": "code",
   "execution_count": 16,
   "metadata": {},
   "outputs": [],
   "source": [
    "# columns = get_columns(cursor, partial_chosen_table)\n",
    "# print(f\"Columnas de la tabla {chosen_table}: {columns}\")"
   ]
  },
  {
   "cell_type": "code",
   "execution_count": 17,
   "metadata": {},
   "outputs": [],
   "source": [
    "def get_user_input():\n",
    "    columns = get_columns(cursor, partial_chosen_table)\n",
    "    print(f\"The {chosen_table}'s columns are: {columns}\")\n",
    "    return input(\"Enter your query: \")"
   ]
  },
  {
   "cell_type": "code",
   "execution_count": 18,
   "metadata": {},
   "outputs": [],
   "source": [
    "def complete_prompt():\n",
    "    columns = get_columns(cursor, partial_chosen_table)\n",
    "    user_query = get_user_input()\n",
    "    return f\"Knowing that the {chosen_table} Columns are: {columns}. Query to answer: {user_query}. Answer directly with 'SELECT', omit the ``` and the 'sql'.\""
   ]
  },
  {
   "cell_type": "code",
   "execution_count": 19,
   "metadata": {},
   "outputs": [
    {
     "name": "stdout",
     "output_type": "stream",
     "text": [
      "The Sales.SalesPersonQuotaHistory's columns are: ['BusinessEntityID', 'QuotaDate', 'SalesQuota', 'rowguid', 'ModifiedDate']\n"
     ]
    },
    {
     "data": {
      "text/plain": [
       "\"Knowing that the Sales.SalesPersonQuotaHistory Columns are: ['BusinessEntityID', 'QuotaDate', 'SalesQuota', 'rowguid', 'ModifiedDate']. Query to answer: dime cual fue la mejor cuota. Answer directly with 'SELECT', omit the ``` and the 'sql'.\""
      ]
     },
     "execution_count": 19,
     "metadata": {},
     "output_type": "execute_result"
    }
   ],
   "source": [
    "complete_prompt = complete_prompt()\n",
    "complete_prompt"
   ]
  },
  {
   "cell_type": "code",
   "execution_count": 20,
   "metadata": {},
   "outputs": [],
   "source": [
    "response = openai.chat.completions.create(\n",
    "    model = \"gpt-4o\",\n",
    "    messages=[\n",
    "        {\"role\": \"system\", \"content\": \"You're an SQL query generating assistant.\"},\n",
    "        {\"role\": \"user\", \"content\": complete_prompt}],\n",
    "        temperature=0\n",
    ")"
   ]
  },
  {
   "cell_type": "code",
   "execution_count": 21,
   "metadata": {},
   "outputs": [],
   "source": [
    "def process_response(res):\n",
    "    raw_query = res.choices[0].message.content.strip()\n",
    "    if not raw_query.upper().startswith(\"SELECT\"):\n",
    "        # raw_query = f\"SELECT {raw_query}\"\n",
    "        print(f\"Unsupported query: {raw_query}. \\nQuery must start with 'SELECT'\")\n",
    "        return \"\"\n",
    "    elif raw_query.upper().startswith(\"SELECT\"):\n",
    "        return raw_query"
   ]
  },
  {
   "cell_type": "code",
   "execution_count": 22,
   "metadata": {},
   "outputs": [
    {
     "name": "stdout",
     "output_type": "stream",
     "text": [
      "SELECT MAX(SalesQuota) AS MejorCuota FROM Sales.SalesPersonQuotaHistory\n"
     ]
    }
   ],
   "source": [
    "print(process_response(response))"
   ]
  },
  {
   "cell_type": "code",
   "execution_count": 23,
   "metadata": {},
   "outputs": [],
   "source": [
    "def execute_sql_query(response):\n",
    "    final_query = process_response(response)\n",
    "    cursor.execute(final_query)\n",
    "    table = cursor.fetchall()\n",
    "    return table"
   ]
  },
  {
   "cell_type": "code",
   "execution_count": 24,
   "metadata": {},
   "outputs": [],
   "source": [
    "resulting_table = execute_sql_query(response)"
   ]
  },
  {
   "cell_type": "code",
   "execution_count": 25,
   "metadata": {},
   "outputs": [
    {
     "data": {
      "text/plain": [
       "list"
      ]
     },
     "execution_count": 25,
     "metadata": {},
     "output_type": "execute_result"
    }
   ],
   "source": [
    "type(resulting_table)"
   ]
  },
  {
   "cell_type": "code",
   "execution_count": 26,
   "metadata": {},
   "outputs": [
    {
     "data": {
      "text/plain": [
       "[(Decimal('1898000.0000'),)]"
      ]
     },
     "metadata": {},
     "output_type": "display_data"
    }
   ],
   "source": [
    "display(resulting_table)"
   ]
  },
  {
   "cell_type": "code",
   "execution_count": 27,
   "metadata": {},
   "outputs": [
    {
     "data": {
      "text/html": [
       "<div>\n",
       "<style scoped>\n",
       "    .dataframe tbody tr th:only-of-type {\n",
       "        vertical-align: middle;\n",
       "    }\n",
       "\n",
       "    .dataframe tbody tr th {\n",
       "        vertical-align: top;\n",
       "    }\n",
       "\n",
       "    .dataframe thead th {\n",
       "        text-align: right;\n",
       "    }\n",
       "</style>\n",
       "<table border=\"1\" class=\"dataframe\">\n",
       "  <thead>\n",
       "    <tr style=\"text-align: right;\">\n",
       "      <th></th>\n",
       "      <th>0</th>\n",
       "    </tr>\n",
       "  </thead>\n",
       "  <tbody>\n",
       "    <tr>\n",
       "      <th>0</th>\n",
       "      <td>1898000.0000</td>\n",
       "    </tr>\n",
       "  </tbody>\n",
       "</table>\n",
       "</div>"
      ],
      "text/plain": [
       "              0\n",
       "0  1898000.0000"
      ]
     },
     "metadata": {},
     "output_type": "display_data"
    }
   ],
   "source": [
    "display(pd.DataFrame([list(i) for i in resulting_table]))"
   ]
  },
  {
   "cell_type": "code",
   "execution_count": 28,
   "metadata": {},
   "outputs": [
    {
     "name": "stdout",
     "output_type": "stream",
     "text": [
      "Connection Closed: True\n"
     ]
    }
   ],
   "source": [
    "cursor.close()\n",
    "del cursor\n",
    "conn.close()\n",
    "print(f\"Connection Closed: {conn.closed}\")"
   ]
  },
  {
   "cell_type": "code",
   "execution_count": 29,
   "metadata": {},
   "outputs": [
    {
     "data": {
      "text/plain": [
       "True"
      ]
     },
     "execution_count": 29,
     "metadata": {},
     "output_type": "execute_result"
    }
   ],
   "source": [
    "conn.closed"
   ]
  },
  {
   "cell_type": "code",
   "execution_count": 30,
   "metadata": {},
   "outputs": [],
   "source": [
    "# conn.close()"
   ]
  },
  {
   "cell_type": "code",
   "execution_count": null,
   "metadata": {},
   "outputs": [],
   "source": []
  }
 ],
 "metadata": {
  "kernelspec": {
   "display_name": "OpAI_SqlSrv_ENV",
   "language": "python",
   "name": "python3"
  },
  "language_info": {
   "codemirror_mode": {
    "name": "ipython",
    "version": 3
   },
   "file_extension": ".py",
   "mimetype": "text/x-python",
   "name": "python",
   "nbconvert_exporter": "python",
   "pygments_lexer": "ipython3",
   "version": "3.12.5"
  }
 },
 "nbformat": 4,
 "nbformat_minor": 2
}
